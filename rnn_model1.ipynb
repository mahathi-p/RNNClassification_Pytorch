{
 "cells": [
  {
   "cell_type": "markdown",
   "metadata": {},
   "source": [
    "### CHARACTER-LEVEL RNN"
   ]
  },
  {
   "cell_type": "markdown",
   "metadata": {},
   "source": [
    "Classifying Laptops and Monitors using their product name. \n",
    "\n",
    "-------------------------"
   ]
  },
  {
   "cell_type": "markdown",
   "metadata": {},
   "source": [
    "### 1. DataSet"
   ]
  },
  {
   "cell_type": "code",
   "execution_count": 1,
   "metadata": {},
   "outputs": [],
   "source": [
    "## importing libraries\n",
    "import pandas as pd\n",
    "import torch\n",
    "import torch.nn as nn\n",
    "import torch.nn.functional as F\n",
    "from sklearn.preprocessing import MultiLabelBinarizer\n",
    "import string"
   ]
  },
  {
   "cell_type": "code",
   "execution_count": 2,
   "metadata": {},
   "outputs": [
    {
     "data": {
      "text/html": [
       "<div>\n",
       "<style scoped>\n",
       "    .dataframe tbody tr th:only-of-type {\n",
       "        vertical-align: middle;\n",
       "    }\n",
       "\n",
       "    .dataframe tbody tr th {\n",
       "        vertical-align: top;\n",
       "    }\n",
       "\n",
       "    .dataframe thead th {\n",
       "        text-align: right;\n",
       "    }\n",
       "</style>\n",
       "<table border=\"1\" class=\"dataframe\">\n",
       "  <thead>\n",
       "    <tr style=\"text-align: right;\">\n",
       "      <th></th>\n",
       "      <th>ProdName</th>\n",
       "      <th>Brand</th>\n",
       "      <th>Model</th>\n",
       "      <th>Processor</th>\n",
       "      <th>RAM</th>\n",
       "      <th>OS</th>\n",
       "      <th>Disk</th>\n",
       "      <th>Dim</th>\n",
       "      <th>Category</th>\n",
       "    </tr>\n",
       "  </thead>\n",
       "  <tbody>\n",
       "    <tr>\n",
       "      <th>0</th>\n",
       "      <td>Lenovo Ideapad 130 Core i3 7th Gen - (4 GB/1 T...</td>\n",
       "      <td>Lenovo</td>\n",
       "      <td>Ideapad</td>\n",
       "      <td>Intel Core i3 Processor (7th Gen)</td>\n",
       "      <td>4 GB DDR4</td>\n",
       "      <td>64 bit Windows 10</td>\n",
       "      <td>1 TB HDD</td>\n",
       "      <td>39.62 cm (15.6 inch)</td>\n",
       "      <td>Laptop</td>\n",
       "    </tr>\n",
       "    <tr>\n",
       "      <th>1</th>\n",
       "      <td>Lenovo Ideapad 130 Core i3 7th Gen - (4 GB/1 T...</td>\n",
       "      <td>Lenovo</td>\n",
       "      <td>Ideapad</td>\n",
       "      <td>Intel Core i3 Processor (7th Gen)</td>\n",
       "      <td>4 GB DDR4</td>\n",
       "      <td>64 bit Windows 10</td>\n",
       "      <td>1 TB HDD</td>\n",
       "      <td>39.62 cm (15.6 inch)</td>\n",
       "      <td>Laptop</td>\n",
       "    </tr>\n",
       "    <tr>\n",
       "      <th>2</th>\n",
       "      <td>HP 14q Core i3 7th Gen - (8 GB/256 GB SSD/Wind...</td>\n",
       "      <td>HP</td>\n",
       "      <td>EliteBook</td>\n",
       "      <td>Intel Core i3 Processor (7th Gen)</td>\n",
       "      <td>8 GB DDR4</td>\n",
       "      <td>64 bit Windows 10</td>\n",
       "      <td>256 GB SSD</td>\n",
       "      <td>35.56 cm (14 inch)</td>\n",
       "      <td>Laptop</td>\n",
       "    </tr>\n",
       "    <tr>\n",
       "      <th>3</th>\n",
       "      <td>Dell Vostro 3000 Core i3 8th Gen - (4 GB/1 TB ...</td>\n",
       "      <td>Dell</td>\n",
       "      <td>Vostro</td>\n",
       "      <td>Intel Core i3 Processor (8th Gen)</td>\n",
       "      <td>4 GB DDR4</td>\n",
       "      <td>Linux/Ubuntu</td>\n",
       "      <td>1 TB HDD</td>\n",
       "      <td>35.56 cm (14 inch)</td>\n",
       "      <td>Laptop</td>\n",
       "    </tr>\n",
       "    <tr>\n",
       "      <th>4</th>\n",
       "      <td>HP 14q Core i5 8th Gen - (8 GB/1 TB HDD/Window...</td>\n",
       "      <td>HP</td>\n",
       "      <td>Zbook</td>\n",
       "      <td>Intel Core i5 Processor (8th Gen)</td>\n",
       "      <td>8 GB DDR4</td>\n",
       "      <td>64 bit Windows 10</td>\n",
       "      <td>1 TB HDD</td>\n",
       "      <td>35.56 cm (14 inch)</td>\n",
       "      <td>Laptop</td>\n",
       "    </tr>\n",
       "  </tbody>\n",
       "</table>\n",
       "</div>"
      ],
      "text/plain": [
       "                                            ProdName   Brand      Model  \\\n",
       "0  Lenovo Ideapad 130 Core i3 7th Gen - (4 GB/1 T...  Lenovo    Ideapad   \n",
       "1  Lenovo Ideapad 130 Core i3 7th Gen - (4 GB/1 T...  Lenovo    Ideapad   \n",
       "2  HP 14q Core i3 7th Gen - (8 GB/256 GB SSD/Wind...      HP  EliteBook   \n",
       "3  Dell Vostro 3000 Core i3 8th Gen - (4 GB/1 TB ...    Dell     Vostro   \n",
       "4  HP 14q Core i5 8th Gen - (8 GB/1 TB HDD/Window...      HP      Zbook   \n",
       "\n",
       "                           Processor         RAM                 OS  \\\n",
       "0  Intel Core i3 Processor (7th Gen)  4 GB DDR4   64 bit Windows 10   \n",
       "1  Intel Core i3 Processor (7th Gen)  4 GB DDR4   64 bit Windows 10   \n",
       "2  Intel Core i3 Processor (7th Gen)  8 GB DDR4   64 bit Windows 10   \n",
       "3  Intel Core i3 Processor (8th Gen)  4 GB DDR4        Linux/Ubuntu   \n",
       "4  Intel Core i5 Processor (8th Gen)  8 GB DDR4   64 bit Windows 10   \n",
       "\n",
       "         Disk                    Dim Category  \n",
       "0    1 TB HDD  39.62 cm (15.6 inch)    Laptop  \n",
       "1    1 TB HDD  39.62 cm (15.6 inch)    Laptop  \n",
       "2  256 GB SSD    35.56 cm (14 inch)    Laptop  \n",
       "3    1 TB HDD    35.56 cm (14 inch)    Laptop  \n",
       "4    1 TB HDD    35.56 cm (14 inch)    Laptop  "
      ]
     },
     "execution_count": 2,
     "metadata": {},
     "output_type": "execute_result"
    }
   ],
   "source": [
    "laptop = pd.read_csv(\"laptop1.csv\")\n",
    "laptop.head()"
   ]
  },
  {
   "cell_type": "code",
   "execution_count": 3,
   "metadata": {},
   "outputs": [
    {
     "data": {
      "text/html": [
       "<div>\n",
       "<style scoped>\n",
       "    .dataframe tbody tr th:only-of-type {\n",
       "        vertical-align: middle;\n",
       "    }\n",
       "\n",
       "    .dataframe tbody tr th {\n",
       "        vertical-align: top;\n",
       "    }\n",
       "\n",
       "    .dataframe thead th {\n",
       "        text-align: right;\n",
       "    }\n",
       "</style>\n",
       "<table border=\"1\" class=\"dataframe\">\n",
       "  <thead>\n",
       "    <tr style=\"text-align: right;\">\n",
       "      <th></th>\n",
       "      <th>ProdName</th>\n",
       "      <th>Brand</th>\n",
       "      <th>DisplayType</th>\n",
       "      <th>Dim</th>\n",
       "      <th>RespTime</th>\n",
       "      <th>HDMI</th>\n",
       "      <th>Category</th>\n",
       "    </tr>\n",
       "  </thead>\n",
       "  <tbody>\n",
       "    <tr>\n",
       "      <th>0</th>\n",
       "      <td>Lenovo 27 inch Full HD Monitor (D27-20)</td>\n",
       "      <td>Lenovo</td>\n",
       "      <td>LED</td>\n",
       "      <td>68.58 cm (27 inch) Full HD</td>\n",
       "      <td>4 ms</td>\n",
       "      <td>HDMI</td>\n",
       "      <td>Monitor</td>\n",
       "    </tr>\n",
       "    <tr>\n",
       "      <th>1</th>\n",
       "      <td>HP 23.8 inch Full HD LED Backlit IPS Panel Mon...</td>\n",
       "      <td>HP</td>\n",
       "      <td>LED</td>\n",
       "      <td>60.45 cm (23.8 inch) Full HD</td>\n",
       "      <td>5 ms</td>\n",
       "      <td>HDMI Ports - 1</td>\n",
       "      <td>Monitor</td>\n",
       "    </tr>\n",
       "    <tr>\n",
       "      <th>2</th>\n",
       "      <td>HP 21.5 inch Full HD LED Backlit IPS Panel Mon...</td>\n",
       "      <td>HP</td>\n",
       "      <td>LED Backlit</td>\n",
       "      <td>54.61 cm (21.5 inch) Full HD</td>\n",
       "      <td>14 ms</td>\n",
       "      <td>HDMI Ports - 1</td>\n",
       "      <td>Monitor</td>\n",
       "    </tr>\n",
       "    <tr>\n",
       "      <th>3</th>\n",
       "      <td>Samsung 21.5 inch Full HD LED Backlit Monitor ...</td>\n",
       "      <td>Samsung</td>\n",
       "      <td>backlit led</td>\n",
       "      <td>54.61 cm (21.5 inch) Full HD</td>\n",
       "      <td>4 ms</td>\n",
       "      <td>HDMI</td>\n",
       "      <td>Monitor</td>\n",
       "    </tr>\n",
       "    <tr>\n",
       "      <th>4</th>\n",
       "      <td>LG 18.5 inch HD LED Backlit Monitor (19M38HB -...</td>\n",
       "      <td>LG</td>\n",
       "      <td>LED Backlit</td>\n",
       "      <td>46.99 cm (18.5 inch) HD</td>\n",
       "      <td>5 ms</td>\n",
       "      <td>HDMI Ports - 1</td>\n",
       "      <td>Monitor</td>\n",
       "    </tr>\n",
       "  </tbody>\n",
       "</table>\n",
       "</div>"
      ],
      "text/plain": [
       "                                            ProdName    Brand  DisplayType  \\\n",
       "0            Lenovo 27 inch Full HD Monitor (D27-20)   Lenovo          LED   \n",
       "1  HP 23.8 inch Full HD LED Backlit IPS Panel Mon...       HP          LED   \n",
       "2  HP 21.5 inch Full HD LED Backlit IPS Panel Mon...       HP  LED Backlit   \n",
       "3  Samsung 21.5 inch Full HD LED Backlit Monitor ...  Samsung  backlit led   \n",
       "4  LG 18.5 inch HD LED Backlit Monitor (19M38HB -...       LG  LED Backlit   \n",
       "\n",
       "                             Dim RespTime            HDMI Category  \n",
       "0    68.58 cm (27 inch) Full HD      4 ms            HDMI  Monitor  \n",
       "1  60.45 cm (23.8 inch) Full HD      5 ms  HDMI Ports - 1  Monitor  \n",
       "2  54.61 cm (21.5 inch) Full HD     14 ms  HDMI Ports - 1  Monitor  \n",
       "3  54.61 cm (21.5 inch) Full HD      4 ms            HDMI  Monitor  \n",
       "4       46.99 cm (18.5 inch) HD      5 ms  HDMI Ports - 1  Monitor  "
      ]
     },
     "execution_count": 3,
     "metadata": {},
     "output_type": "execute_result"
    }
   ],
   "source": [
    "monitor = pd.read_csv(\"monitor1.csv\")\n",
    "monitor.head()"
   ]
  },
  {
   "cell_type": "code",
   "execution_count": 4,
   "metadata": {},
   "outputs": [
    {
     "data": {
      "text/plain": [
       "(416, 7)"
      ]
     },
     "execution_count": 4,
     "metadata": {},
     "output_type": "execute_result"
    }
   ],
   "source": [
    "monitor = monitor.sample(416, replace = True)\n",
    "monitor.shape"
   ]
  },
  {
   "cell_type": "code",
   "execution_count": 5,
   "metadata": {},
   "outputs": [],
   "source": [
    "# Combining the laptop and monitor names\n",
    "df = laptop[['ProdName','Category']]\n",
    "df = df.append(monitor[['ProdName','Category']], ignore_index = True).reset_index(drop= True) "
   ]
  },
  {
   "cell_type": "code",
   "execution_count": 6,
   "metadata": {},
   "outputs": [],
   "source": [
    "# Computing List of characters and their len and storing in new columns\n",
    "df['charList'] = df['ProdName'].apply(lambda x: list(x))\n",
    "df['len'] = df['ProdName'].apply(len)"
   ]
  },
  {
   "cell_type": "code",
   "execution_count": 7,
   "metadata": {},
   "outputs": [
    {
     "data": {
      "text/html": [
       "<div>\n",
       "<style scoped>\n",
       "    .dataframe tbody tr th:only-of-type {\n",
       "        vertical-align: middle;\n",
       "    }\n",
       "\n",
       "    .dataframe tbody tr th {\n",
       "        vertical-align: top;\n",
       "    }\n",
       "\n",
       "    .dataframe thead th {\n",
       "        text-align: right;\n",
       "    }\n",
       "</style>\n",
       "<table border=\"1\" class=\"dataframe\">\n",
       "  <thead>\n",
       "    <tr style=\"text-align: right;\">\n",
       "      <th></th>\n",
       "      <th>ProdName</th>\n",
       "      <th>Category</th>\n",
       "      <th>charList</th>\n",
       "      <th>len</th>\n",
       "    </tr>\n",
       "  </thead>\n",
       "  <tbody>\n",
       "    <tr>\n",
       "      <th>0</th>\n",
       "      <td>Lenovo Ideapad 130 Core i3 7th Gen - (4 GB/1 T...</td>\n",
       "      <td>Laptop</td>\n",
       "      <td>[L, e, n, o, v, o,  , I, d, e, a, p, a, d,  , ...</td>\n",
       "      <td>85</td>\n",
       "    </tr>\n",
       "    <tr>\n",
       "      <th>1</th>\n",
       "      <td>Lenovo Ideapad 130 Core i3 7th Gen - (4 GB/1 T...</td>\n",
       "      <td>Laptop</td>\n",
       "      <td>[L, e, n, o, v, o,  , I, d, e, a, p, a, d,  , ...</td>\n",
       "      <td>85</td>\n",
       "    </tr>\n",
       "    <tr>\n",
       "      <th>2</th>\n",
       "      <td>HP 14q Core i3 7th Gen - (8 GB/256 GB SSD/Wind...</td>\n",
       "      <td>Laptop</td>\n",
       "      <td>[H, P,  , 1, 4, q,  , C, o, r, e,  , i, 3,  , ...</td>\n",
       "      <td>93</td>\n",
       "    </tr>\n",
       "    <tr>\n",
       "      <th>3</th>\n",
       "      <td>Dell Vostro 3000 Core i3 8th Gen - (4 GB/1 TB ...</td>\n",
       "      <td>Laptop</td>\n",
       "      <td>[D, e, l, l,  , V, o, s, t, r, o,  , 3, 0, 0, ...</td>\n",
       "      <td>68</td>\n",
       "    </tr>\n",
       "    <tr>\n",
       "      <th>4</th>\n",
       "      <td>HP 14q Core i5 8th Gen - (8 GB/1 TB HDD/Window...</td>\n",
       "      <td>Laptop</td>\n",
       "      <td>[H, P,  , 1, 4, q,  , C, o, r, e,  , i, 5,  , ...</td>\n",
       "      <td>91</td>\n",
       "    </tr>\n",
       "  </tbody>\n",
       "</table>\n",
       "</div>"
      ],
      "text/plain": [
       "                                            ProdName Category  \\\n",
       "0  Lenovo Ideapad 130 Core i3 7th Gen - (4 GB/1 T...   Laptop   \n",
       "1  Lenovo Ideapad 130 Core i3 7th Gen - (4 GB/1 T...   Laptop   \n",
       "2  HP 14q Core i3 7th Gen - (8 GB/256 GB SSD/Wind...   Laptop   \n",
       "3  Dell Vostro 3000 Core i3 8th Gen - (4 GB/1 TB ...   Laptop   \n",
       "4  HP 14q Core i5 8th Gen - (8 GB/1 TB HDD/Window...   Laptop   \n",
       "\n",
       "                                            charList  len  \n",
       "0  [L, e, n, o, v, o,  , I, d, e, a, p, a, d,  , ...   85  \n",
       "1  [L, e, n, o, v, o,  , I, d, e, a, p, a, d,  , ...   85  \n",
       "2  [H, P,  , 1, 4, q,  , C, o, r, e,  , i, 3,  , ...   93  \n",
       "3  [D, e, l, l,  , V, o, s, t, r, o,  , 3, 0, 0, ...   68  \n",
       "4  [H, P,  , 1, 4, q,  , C, o, r, e,  , i, 5,  , ...   91  "
      ]
     },
     "execution_count": 7,
     "metadata": {},
     "output_type": "execute_result"
    }
   ],
   "source": [
    "df.head()"
   ]
  },
  {
   "cell_type": "code",
   "execution_count": 8,
   "metadata": {},
   "outputs": [
    {
     "data": {
      "text/html": [
       "<div>\n",
       "<style scoped>\n",
       "    .dataframe tbody tr th:only-of-type {\n",
       "        vertical-align: middle;\n",
       "    }\n",
       "\n",
       "    .dataframe tbody tr th {\n",
       "        vertical-align: top;\n",
       "    }\n",
       "\n",
       "    .dataframe thead th {\n",
       "        text-align: right;\n",
       "    }\n",
       "</style>\n",
       "<table border=\"1\" class=\"dataframe\">\n",
       "  <thead>\n",
       "    <tr style=\"text-align: right;\">\n",
       "      <th></th>\n",
       "      <th>ProdName</th>\n",
       "      <th>Category</th>\n",
       "      <th>charList</th>\n",
       "      <th>len</th>\n",
       "    </tr>\n",
       "  </thead>\n",
       "  <tbody>\n",
       "    <tr>\n",
       "      <th>827</th>\n",
       "      <td>Lenovo 23.8 inch Full HD Monitor (Q24i-10)</td>\n",
       "      <td>Monitor</td>\n",
       "      <td>[L, e, n, o, v, o,  , 2, 3, ., 8,  , i, n, c, ...</td>\n",
       "      <td>42</td>\n",
       "    </tr>\n",
       "    <tr>\n",
       "      <th>828</th>\n",
       "      <td>MarQ by Flipkart 23.8 inch Full HD LED Backlit...</td>\n",
       "      <td>Monitor</td>\n",
       "      <td>[M, a, r, Q,  , b, y,  , F, l, i, p, k, a, r, ...</td>\n",
       "      <td>73</td>\n",
       "    </tr>\n",
       "    <tr>\n",
       "      <th>829</th>\n",
       "      <td>Lenovo 27 inch Full HD Monitor (D27-20)</td>\n",
       "      <td>Monitor</td>\n",
       "      <td>[L, e, n, o, v, o,  , 2, 7,  , i, n, c, h,  , ...</td>\n",
       "      <td>39</td>\n",
       "    </tr>\n",
       "    <tr>\n",
       "      <th>830</th>\n",
       "      <td>Dell 22 inch Full HD Monitor (E2218HN)</td>\n",
       "      <td>Monitor</td>\n",
       "      <td>[D, e, l, l,  , 2, 2,  , i, n, c, h,  , F, u, ...</td>\n",
       "      <td>38</td>\n",
       "    </tr>\n",
       "    <tr>\n",
       "      <th>831</th>\n",
       "      <td>MarQ by Flipkart 23.8 inch Full HD LED Backlit...</td>\n",
       "      <td>Monitor</td>\n",
       "      <td>[M, a, r, Q,  , b, y,  , F, l, i, p, k, a, r, ...</td>\n",
       "      <td>73</td>\n",
       "    </tr>\n",
       "  </tbody>\n",
       "</table>\n",
       "</div>"
      ],
      "text/plain": [
       "                                              ProdName Category  \\\n",
       "827         Lenovo 23.8 inch Full HD Monitor (Q24i-10)  Monitor   \n",
       "828  MarQ by Flipkart 23.8 inch Full HD LED Backlit...  Monitor   \n",
       "829            Lenovo 27 inch Full HD Monitor (D27-20)  Monitor   \n",
       "830             Dell 22 inch Full HD Monitor (E2218HN)  Monitor   \n",
       "831  MarQ by Flipkart 23.8 inch Full HD LED Backlit...  Monitor   \n",
       "\n",
       "                                              charList  len  \n",
       "827  [L, e, n, o, v, o,  , 2, 3, ., 8,  , i, n, c, ...   42  \n",
       "828  [M, a, r, Q,  , b, y,  , F, l, i, p, k, a, r, ...   73  \n",
       "829  [L, e, n, o, v, o,  , 2, 7,  , i, n, c, h,  , ...   39  \n",
       "830  [D, e, l, l,  , 2, 2,  , i, n, c, h,  , F, u, ...   38  \n",
       "831  [M, a, r, Q,  , b, y,  , F, l, i, p, k, a, r, ...   73  "
      ]
     },
     "execution_count": 8,
     "metadata": {},
     "output_type": "execute_result"
    }
   ],
   "source": [
    "df.tail()"
   ]
  },
  {
   "cell_type": "markdown",
   "metadata": {},
   "source": [
    "### 2. Preprocessing"
   ]
  },
  {
   "cell_type": "code",
   "execution_count": 9,
   "metadata": {},
   "outputs": [
    {
     "data": {
      "text/plain": [
       "array([' ', '(', ')', '+', '-', '.', '/', '0', '1', '2', '3', '4', '5',\n",
       "       '6', '7', '8', '9', 'A', 'B', 'C', 'D', 'E', 'F', 'G', 'H', 'I',\n",
       "       'J', 'K', 'L', 'M', 'N', 'O', 'P', 'Q', 'R', 'S', 'T', 'U', 'V',\n",
       "       'W', 'X', 'Y', 'Z', 'a', 'b', 'c', 'd', 'e', 'f', 'g', 'h', 'i',\n",
       "       'j', 'k', 'l', 'm', 'n', 'o', 'p', 'q', 'r', 's', 't', 'u', 'v',\n",
       "       'w', 'x', 'y', 'z'], dtype=object)"
      ]
     },
     "execution_count": 9,
     "metadata": {},
     "output_type": "execute_result"
    }
   ],
   "source": [
    "# Extracting the list of all unique characters\n",
    "mlb = MultiLabelBinarizer()\n",
    "mlb.fit(df[\"charList\"])\n",
    "mlb.classes_"
   ]
  },
  {
   "cell_type": "code",
   "execution_count": 10,
   "metadata": {},
   "outputs": [],
   "source": [
    "all_letters =  ''.join(mlb.classes_) \n",
    "n_letters = len(all_letters)"
   ]
  },
  {
   "cell_type": "code",
   "execution_count": 11,
   "metadata": {},
   "outputs": [
    {
     "data": {
      "text/plain": [
       "' ()+-./0123456789ABCDEFGHIJKLMNOPQRSTUVWXYZabcdefghijklmnopqrstuvwxyz'"
      ]
     },
     "execution_count": 11,
     "metadata": {},
     "output_type": "execute_result"
    }
   ],
   "source": [
    "all_letters"
   ]
  },
  {
   "cell_type": "code",
   "execution_count": 12,
   "metadata": {},
   "outputs": [],
   "source": [
    "# functions to convert into tensor\n",
    "\n",
    "# Find letter index from all_letters, e.g. \"a\" = 0\n",
    "def letterToIndex(letter):\n",
    "    return all_letters.find(letter)\n",
    "\n",
    "# Just for demonstration, turn a letter into a <1 x n_letters> Tensor\n",
    "def letterToTensor(letter):\n",
    "    tensor = torch.zeros(1, n_letters)\n",
    "    tensor[0][letterToIndex(letter)] = 1\n",
    "    return tensor\n",
    "\n",
    "# Turn a line into a <line_length x 1 x n_letters>,\n",
    "# or an array of one-hot letter vectors\n",
    "def lineToTensor(line):\n",
    "    tensor = torch.zeros(len(line), 1, n_letters)\n",
    "    for li, letter in enumerate(line):\n",
    "        tensor[li][0][letterToIndex(letter)] = 1\n",
    "    return tensor"
   ]
  },
  {
   "cell_type": "code",
   "execution_count": 13,
   "metadata": {},
   "outputs": [
    {
     "name": "stdout",
     "output_type": "stream",
     "text": [
      "tensor([[0., 0., 0., 0., 0., 0., 0., 0., 0., 0., 0., 0., 0., 0., 0., 0., 0., 0.,\n",
      "         0., 0., 0., 0., 0., 0., 0., 0., 0., 0., 0., 0., 0., 0., 0., 0., 0., 0.,\n",
      "         0., 0., 0., 0., 0., 0., 0., 1., 0., 0., 0., 0., 0., 0., 0., 0., 0., 0.,\n",
      "         0., 0., 0., 0., 0., 0., 0., 0., 0., 0., 0., 0., 0., 0., 0.]])\n",
      "torch.Size([6, 1, 69])\n"
     ]
    }
   ],
   "source": [
    "# examples of the tensor conversion\n",
    "print(letterToTensor('a'))\n",
    "print(lineToTensor('Lenovo').size())"
   ]
  },
  {
   "cell_type": "code",
   "execution_count": 14,
   "metadata": {},
   "outputs": [
    {
     "data": {
      "text/plain": [
       "{'Laptop': 0      Lenovo Ideapad 130 Core i3 7th Gen - (4 GB/1 T...\n",
       " 1      Lenovo Ideapad 130 Core i3 7th Gen - (4 GB/1 T...\n",
       " 2      HP 14q Core i3 7th Gen - (8 GB/256 GB SSD/Wind...\n",
       " 3      Dell Vostro 3000 Core i3 8th Gen - (4 GB/1 TB ...\n",
       " 4      HP 14q Core i5 8th Gen - (8 GB/1 TB HDD/Window...\n",
       "                              ...                        \n",
       " 411    Lenovo Ideapad 500 Core i5 6th Gen - (4 GB/1 T...\n",
       " 412    Lenovo Ideapad 330 Core i7 8th Gen - (8 GB/1 T...\n",
       " 413    Lenovo Ideapad 320 APU Quad Core A6 - (4 GB/1 ...\n",
       " 414    Lenovo G50-30 Pentium Quad Core 4th Gen - (4 G...\n",
       " 415    Lenovo Ideapad 330 Core i3 7th Gen - (4 GB/1 T...\n",
       " Name: ProdName, Length: 416, dtype: object,\n",
       " 'Monitor': 0      MarQ by Flipkart 23.8 inch Full HD LED Backlit...\n",
       " 1      Philips 27 inch Full HD LED Backlit IPS Panel ...\n",
       " 2      HP 21.5 inch Full HD LED Backlit IPS Panel Mon...\n",
       " 3      Samsung 21.5 inch Full HD LED Backlit Monitor ...\n",
       " 4      MarQ by Flipkart 23.8 inch Full HD LED Backlit...\n",
       "                              ...                        \n",
       " 411           Lenovo 23.8 inch Full HD Monitor (Q24i-10)\n",
       " 412    MarQ by Flipkart 23.8 inch Full HD LED Backlit...\n",
       " 413              Lenovo 27 inch Full HD Monitor (D27-20)\n",
       " 414               Dell 22 inch Full HD Monitor (E2218HN)\n",
       " 415    MarQ by Flipkart 23.8 inch Full HD LED Backlit...\n",
       " Name: ProdName, Length: 416, dtype: object}"
      ]
     },
     "execution_count": 14,
     "metadata": {},
     "output_type": "execute_result"
    }
   ],
   "source": [
    "category_lines = {}\n",
    "\n",
    "category_lines['Laptop'] = df.loc[df.Category == 'Laptop'].ProdName\n",
    "category_lines['Monitor'] = df.ProdName.loc[df.Category == 'Monitor'].reset_index(drop = True)\n",
    "category_lines"
   ]
  },
  {
   "cell_type": "markdown",
   "metadata": {},
   "source": [
    "### 3. Defining RNN"
   ]
  },
  {
   "attachments": {
    "image.png": {
     "image/png": "[encoded data removed]"
    }
   },
   "cell_type": "markdown",
   "metadata": {},
   "source": [
    "\n",
    "<img src=\"attachment:image.png\" width=\"300\">"
   ]
  },
  {
   "cell_type": "code",
   "execution_count": 15,
   "metadata": {},
   "outputs": [],
   "source": [
    "# defining a RNN class\n",
    "class RNN(nn.Module):\n",
    "    \n",
    "    def __init__(self, data_size, hidden_size, output_size):\n",
    "        super(RNN, self).__init__()\n",
    "        self.hidden_size = hidden_size\n",
    "        input_size = data_size + hidden_size\n",
    "        self.i2h = nn.Linear(input_size, hidden_size)\n",
    "        self.i2o = nn.Linear(input_size, output_size)\n",
    "        #self.softmax = nn.Softmax(dim = 1)\n",
    "\n",
    "    def forward(self,data, hidden):\n",
    "        combined = torch.cat((data, hidden), 1)\n",
    "        hidden = self.i2h(combined)\n",
    "        output = self.i2o(combined)\n",
    "        #output = self.softmax(output)\n",
    "        return output, hidden\n",
    "\n",
    "    def initHidden(self):\n",
    "        return torch.zeros(1, self.hidden_size)\n",
    "\n",
    "n_hidden = 10\n",
    "\n",
    "rnn = RNN(n_letters, n_hidden, 2)"
   ]
  },
  {
   "cell_type": "markdown",
   "metadata": {},
   "source": [
    "#### Checking layers"
   ]
  },
  {
   "cell_type": "code",
   "execution_count": 16,
   "metadata": {},
   "outputs": [
    {
     "data": {
      "text/plain": [
       "torch.Size([85, 1, 69])"
      ]
     },
     "execution_count": 16,
     "metadata": {},
     "output_type": "execute_result"
    }
   ],
   "source": [
    "inp = lineToTensor(df[\"ProdName\"].loc[1])\n",
    "inp.shape"
   ]
  },
  {
   "cell_type": "code",
   "execution_count": 17,
   "metadata": {},
   "outputs": [
    {
     "data": {
      "text/plain": [
       "tensor([[0.1651, 0.0283]], grad_fn=<AddmmBackward>)"
      ]
     },
     "execution_count": 17,
     "metadata": {},
     "output_type": "execute_result"
    }
   ],
   "source": [
    "input = letterToTensor('L')\n",
    "hidden =torch.zeros(1, n_hidden)\n",
    "\n",
    "output, next_hidden = rnn(input, hidden)\n",
    "output"
   ]
  },
  {
   "cell_type": "code",
   "execution_count": 18,
   "metadata": {},
   "outputs": [
    {
     "name": "stdout",
     "output_type": "stream",
     "text": [
      "first input is: tensor([[0., 0., 0., 0., 0., 0., 0., 0., 0., 0., 0., 0., 0., 0., 0., 0., 0., 0.,\n",
      "         0., 0., 0., 0., 0., 0., 0., 0., 0., 0., 1., 0., 0., 0., 0., 0., 0., 0.,\n",
      "         0., 0., 0., 0., 0., 0., 0., 0., 0., 0., 0., 0., 0., 0., 0., 0., 0., 0.,\n",
      "         0., 0., 0., 0., 0., 0., 0., 0., 0., 0., 0., 0., 0., 0., 0.]])\n",
      "tensor([[0.1651, 0.0283]], grad_fn=<AddmmBackward>)\n"
     ]
    }
   ],
   "source": [
    "input = lineToTensor('LG Monitor')\n",
    "#print(input.size())\n",
    "hidden = torch.zeros(1, n_hidden)\n",
    "print('first input is:',input[0])\n",
    "output, next_hidden = rnn(input[0], hidden)\n",
    "print(output)\n",
    "# for i in range(1,len(input)):\n",
    "#     output, hidden = rnn(input[i], next_hidden)\n",
    "#     print('input is: ', input[i])\n",
    "#     print(i,' output : ',output)\n",
    "#     print('hidden : ', hidden)\n",
    "#     print('-----')\n",
    "#     next_hidden = hidden\n",
    "# print(output)\n"
   ]
  },
  {
   "cell_type": "code",
   "execution_count": 19,
   "metadata": {},
   "outputs": [
    {
     "name": "stdout",
     "output_type": "stream",
     "text": [
      "('Laptop', 0)\n"
     ]
    }
   ],
   "source": [
    "all_categories = ['Laptop', 'Monitor']\n",
    "\n",
    "def categoryFromOutput(output):\n",
    "    top_n, top_i = output.topk(1)\n",
    "    category_i = top_i[0].item()\n",
    "    return all_categories[category_i], category_i\n",
    "\n",
    "print(categoryFromOutput(output))"
   ]
  },
  {
   "cell_type": "code",
   "execution_count": 20,
   "metadata": {},
   "outputs": [
    {
     "name": "stdout",
     "output_type": "stream",
     "text": [
      "category = Monitor / line = Samsung 21.5 inch Full HD LED Backlit Monitor (sf350 ls22f350fhwxxl)\n",
      "tensor([1])\n",
      "torch.Size([68, 1, 69])\n",
      "---\n",
      "category = Monitor / line = MarQ by Flipkart 23.8 inch Full HD LED Backlit IPS Panel Monitor (MA24MN)\n",
      "tensor([1])\n",
      "torch.Size([73, 1, 69])\n",
      "---\n"
     ]
    }
   ],
   "source": [
    "## choose samples from the data\n",
    "import random\n",
    "\n",
    "def randomChoice(l):\n",
    "    return l[random.randint(0, len(l) - 1)]\n",
    "\n",
    "def randomTrainingExample():\n",
    "    category = randomChoice(all_categories)\n",
    "    line = randomChoice(category_lines[category])\n",
    "    category_tensor = torch.tensor([all_categories.index(category)], dtype=torch.long)\n",
    "    line_tensor = lineToTensor(line)\n",
    "    return category, line, category_tensor, line_tensor\n",
    "\n",
    "for i in range(2):\n",
    "    category, line, category_tensor, line_tensor = randomTrainingExample()\n",
    "    print('category =', category, '/ line =', line)\n",
    "    print(category_tensor)\n",
    "    print(line_tensor.size())\n",
    "    print('---')\n",
    "\n",
    "\n"
   ]
  },
  {
   "cell_type": "markdown",
   "metadata": {},
   "source": [
    "#### training"
   ]
  },
  {
   "cell_type": "code",
   "execution_count": 21,
   "metadata": {},
   "outputs": [],
   "source": [
    "criterion = nn.CrossEntropyLoss()"
   ]
  },
  {
   "cell_type": "code",
   "execution_count": 22,
   "metadata": {},
   "outputs": [],
   "source": [
    "optimiser = torch.optim.Adam(rnn.parameters())"
   ]
  },
  {
   "cell_type": "code",
   "execution_count": 23,
   "metadata": {},
   "outputs": [],
   "source": [
    "learning_rate = 0.02 # If you set this too high, it might explode. If too low, it might not learn\n",
    "\n",
    "def train(category_tensor, line_tensor):\n",
    "    hidden = rnn.initHidden()\n",
    "\n",
    "    rnn.zero_grad()\n",
    "\n",
    "    \n",
    "    for i in range(line_tensor.size()[0]):\n",
    "        output, hidden = rnn(line_tensor[i], hidden)\n",
    "\n",
    "    loss = criterion(output, category_tensor)##CHECKKK\n",
    "    \n",
    "    loss.backward()\n",
    "    optimiser.step()\n",
    "    \n",
    "#     print(output, category_tensor,loss.item())\n",
    "#     print('----')\n",
    "\n",
    "    # Add parameters' gradients to their values, multiplied by learning rate\n",
    "    \"\"\"\n",
    "    for p in rnn.parameters():\n",
    "        p.data.add_(-learning_rate, p.grad.data)\n",
    "    \"\"\"\n",
    "\n",
    "    return output, loss.item()\n"
   ]
  },
  {
   "cell_type": "code",
   "execution_count": 24,
   "metadata": {
    "scrolled": true
   },
   "outputs": [
    {
     "name": "stdout",
     "output_type": "stream",
     "text": [
      "100 1% (0m 1s) 0.6004 Lenovo Ideapad 520 Core i5 8th Gen - (8 GB/2 TB HDD/Windows 10 Home/2 GB Graphics) 520-15IKB Laptop / Laptop ✓\n",
      "200 2% (0m 2s) 0.5556 HP 23.8 inch Full HD LED Backlit IPS Panel Monitor (24m) / Monitor ✓\n",
      "300 3% (0m 3s) 0.0762 Lenovo 27 inch Full HD Monitor (D27-20) / Monitor ✓\n",
      "400 4% (0m 5s) 0.0274 HP APU Dual Core A6 - (4 GB/1 TB HDD/DOS) 245 G7 Laptop / Laptop ✓\n",
      "500 5% (0m 6s) 0.0822 Avita Liber Core i7 8th Gen - (8 GB/256 GB SSD/Windows 10 Home) NS14A2IN241P Thin and Light Laptop / Laptop ✓\n",
      "600 6% (0m 7s) 0.0024 HP Pavilion x360 Core i5 8th Gen - (8 GB/1 TB HDD/8 GB SSD/Windows 10 Home) 14-cd0080TU 2 in 1 Laptop / Laptop ✓\n",
      "700 7% (0m 8s) 0.0345 Lenovo 27 inch Full HD Monitor (D27-20) / Monitor ✓\n",
      "800 8% (0m 9s) 0.0017 LG 22 inch Full HD LED Backlit IPS Panel Monitor (22MP68VQ) / Monitor ✓\n",
      "900 9% (0m 10s) 0.0054 Lenovo Core i7 8th Gen - (8 GB/1 TB HDD/Windows 10 Home/2 GB Graphics) L340-15IWL Laptop / Laptop ✓\n",
      "1000 10% (0m 11s) 0.0037 HP Pavilion x360 Core i5 10th Gen - (8 GB/256 GB SSD/Windows 10 Home) 14-dh1010TU 2 in 1 Laptop / Laptop ✓\n",
      "1100 11% (0m 12s) 0.0033 HP 15 APU Dual Core A9 - (4 GB/500 GB HDD/Windows 10 Home) 15-BW523AU Laptop / Laptop ✓\n",
      "1200 12% (0m 13s) 0.0003 Dell 22 inch Full HD Monitor (E2218HN) / Monitor ✓\n",
      "1300 13% (0m 14s) 0.0110 Samsung 21.5 inch Full HD LED Backlit Monitor (sf350 ls22f350fhwxxl) / Monitor ✓\n",
      "1400 14% (0m 15s) 0.0124 HP 21.5 inch Full HD LED Backlit IPS Panel Monitor (22es) / Monitor ✓\n",
      "1500 15% (0m 17s) 0.0017 Asus X Series Core i3 7th Gen - (4 GB/1 TB HDD/Endless) X540UA-GQ703 Laptop / Laptop ✓\n",
      "1600 16% (0m 18s) 0.0082 MarQ by Flipkart 23.8 inch Full HD LED Backlit IPS Panel Monitor (MA24MN) / Monitor ✓\n",
      "1700 17% (0m 19s) 0.0001 Dell 22 inch Full HD Monitor (E2218HN) / Monitor ✓\n",
      "1800 18% (0m 20s) 0.0075 HP 21.5 inch Full HD LED Backlit IPS Panel Monitor (22es) / Monitor ✓\n",
      "1900 19% (0m 21s) 0.0048 Philips 27 inch Full HD LED Backlit IPS Panel Monitor (276E9QJAB/94) / Monitor ✓\n",
      "2000 20% (0m 23s) 0.0009 Lenovo 23.8 inch Full HD Monitor (Q24i-10) / Monitor ✓\n",
      "2100 21% (0m 24s) 0.0040 MarQ by Flipkart 23.8 inch Full HD LED Backlit IPS Panel Monitor (MA24MN) / Monitor ✓\n",
      "2200 22% (0m 25s) 0.0000 Dell 22 inch Full HD Monitor (E2218HN) / Monitor ✓\n",
      "2300 23% (0m 26s) 0.0000 Dell 22 inch Full HD Monitor (E2218HN) / Monitor ✓\n",
      "2400 24% (0m 27s) 0.0000 Dell 22 inch Full HD Monitor (E2218HN) / Monitor ✓\n",
      "2500 25% (0m 28s) 0.0052 HP 21.5 inch Full HD LED Backlit IPS Panel Monitor (22es) / Monitor ✓\n",
      "2600 26% (0m 29s) 0.0019 Lenovo 27 inch Full HD Monitor (D27-20) / Monitor ✓\n",
      "2700 27% (0m 30s) 0.0014 LG 18.5 inch HD LED Backlit Monitor (19M38HB -BB.BTRFMVL) / Monitor ✓\n",
      "2800 28% (0m 32s) 0.0001 Microsoft SurfacePro 6 Core i5 8th Gen - (8 GB/128 GB SSD/Windows 10 Home) 1796 2 in 1 Laptop / Laptop ✓\n",
      "2900 28% (0m 33s) 0.0010 LG 18.5 inch HD LED Backlit Monitor (19M38HB -BB.BTRFMVL) / Monitor ✓\n",
      "3000 30% (0m 34s) 0.0009 Lenovo 23.8 inch Full HD Monitor (Q24i-10) / Monitor ✓\n",
      "3100 31% (0m 36s) 0.0032 MarQ by Flipkart 23.8 inch Full HD LED Backlit IPS Panel Monitor (MA24MN) / Monitor ✓\n"
     ]
    },
    {
     "ename": "KeyboardInterrupt",
     "evalue": "",
     "output_type": "error",
     "traceback": [
      "\u001b[0;31m---------------------------------------------------------------------------\u001b[0m",
      "\u001b[0;31mKeyboardInterrupt\u001b[0m                         Traceback (most recent call last)",
      "\u001b[0;32m<ipython-input-24-3d34a85414b8>\u001b[0m in \u001b[0;36m<module>\u001b[0;34m\u001b[0m\n\u001b[1;32m     26\u001b[0m     \u001b[0;31m#print(category_tensor, line_tensor.size()[0])\u001b[0m\u001b[0;34m\u001b[0m\u001b[0;34m\u001b[0m\u001b[0;34m\u001b[0m\u001b[0m\n\u001b[1;32m     27\u001b[0m     \u001b[0mgrnd_truth\u001b[0m\u001b[0;34m.\u001b[0m\u001b[0mappend\u001b[0m\u001b[0;34m(\u001b[0m\u001b[0mcategory\u001b[0m\u001b[0;34m)\u001b[0m\u001b[0;34m\u001b[0m\u001b[0;34m\u001b[0m\u001b[0m\n\u001b[0;32m---> 28\u001b[0;31m     \u001b[0moutput\u001b[0m\u001b[0;34m,\u001b[0m \u001b[0mloss\u001b[0m \u001b[0;34m=\u001b[0m \u001b[0mtrain\u001b[0m\u001b[0;34m(\u001b[0m\u001b[0mcategory_tensor\u001b[0m\u001b[0;34m,\u001b[0m \u001b[0mline_tensor\u001b[0m\u001b[0;34m)\u001b[0m\u001b[0;34m\u001b[0m\u001b[0;34m\u001b[0m\u001b[0m\n\u001b[0m\u001b[1;32m     29\u001b[0m     \u001b[0mpred_out\u001b[0m\u001b[0;34m.\u001b[0m\u001b[0mappend\u001b[0m\u001b[0;34m(\u001b[0m\u001b[0moutput\u001b[0m\u001b[0;34m)\u001b[0m\u001b[0;34m\u001b[0m\u001b[0;34m\u001b[0m\u001b[0m\n\u001b[1;32m     30\u001b[0m     \u001b[0mcurrent_loss\u001b[0m \u001b[0;34m+=\u001b[0m \u001b[0mloss\u001b[0m\u001b[0;34m\u001b[0m\u001b[0;34m\u001b[0m\u001b[0m\n",
      "\u001b[0;32m<ipython-input-23-260f74afd319>\u001b[0m in \u001b[0;36mtrain\u001b[0;34m(category_tensor, line_tensor)\u001b[0m\n\u001b[1;32m      8\u001b[0m \u001b[0;34m\u001b[0m\u001b[0m\n\u001b[1;32m      9\u001b[0m     \u001b[0;32mfor\u001b[0m \u001b[0mi\u001b[0m \u001b[0;32min\u001b[0m \u001b[0mrange\u001b[0m\u001b[0;34m(\u001b[0m\u001b[0mline_tensor\u001b[0m\u001b[0;34m.\u001b[0m\u001b[0msize\u001b[0m\u001b[0;34m(\u001b[0m\u001b[0;34m)\u001b[0m\u001b[0;34m[\u001b[0m\u001b[0;36m0\u001b[0m\u001b[0;34m]\u001b[0m\u001b[0;34m)\u001b[0m\u001b[0;34m:\u001b[0m\u001b[0;34m\u001b[0m\u001b[0;34m\u001b[0m\u001b[0m\n\u001b[0;32m---> 10\u001b[0;31m         \u001b[0moutput\u001b[0m\u001b[0;34m,\u001b[0m \u001b[0mhidden\u001b[0m \u001b[0;34m=\u001b[0m \u001b[0mrnn\u001b[0m\u001b[0;34m(\u001b[0m\u001b[0mline_tensor\u001b[0m\u001b[0;34m[\u001b[0m\u001b[0mi\u001b[0m\u001b[0;34m]\u001b[0m\u001b[0;34m,\u001b[0m \u001b[0mhidden\u001b[0m\u001b[0;34m)\u001b[0m\u001b[0;34m\u001b[0m\u001b[0;34m\u001b[0m\u001b[0m\n\u001b[0m\u001b[1;32m     11\u001b[0m \u001b[0;34m\u001b[0m\u001b[0m\n\u001b[1;32m     12\u001b[0m     \u001b[0mloss\u001b[0m \u001b[0;34m=\u001b[0m \u001b[0mcriterion\u001b[0m\u001b[0;34m(\u001b[0m\u001b[0moutput\u001b[0m\u001b[0;34m,\u001b[0m \u001b[0mcategory_tensor\u001b[0m\u001b[0;34m)\u001b[0m\u001b[0;31m##CHECKKK\u001b[0m\u001b[0;34m\u001b[0m\u001b[0;34m\u001b[0m\u001b[0m\n",
      "\u001b[0;32m~/opt/anaconda3/envs/apptio/lib/python3.8/site-packages/torch/nn/modules/module.py\u001b[0m in \u001b[0;36m__call__\u001b[0;34m(self, *input, **kwargs)\u001b[0m\n\u001b[1;32m    530\u001b[0m             \u001b[0mresult\u001b[0m \u001b[0;34m=\u001b[0m \u001b[0mself\u001b[0m\u001b[0;34m.\u001b[0m\u001b[0m_slow_forward\u001b[0m\u001b[0;34m(\u001b[0m\u001b[0;34m*\u001b[0m\u001b[0minput\u001b[0m\u001b[0;34m,\u001b[0m \u001b[0;34m**\u001b[0m\u001b[0mkwargs\u001b[0m\u001b[0;34m)\u001b[0m\u001b[0;34m\u001b[0m\u001b[0;34m\u001b[0m\u001b[0m\n\u001b[1;32m    531\u001b[0m         \u001b[0;32melse\u001b[0m\u001b[0;34m:\u001b[0m\u001b[0;34m\u001b[0m\u001b[0;34m\u001b[0m\u001b[0m\n\u001b[0;32m--> 532\u001b[0;31m             \u001b[0mresult\u001b[0m \u001b[0;34m=\u001b[0m \u001b[0mself\u001b[0m\u001b[0;34m.\u001b[0m\u001b[0mforward\u001b[0m\u001b[0;34m(\u001b[0m\u001b[0;34m*\u001b[0m\u001b[0minput\u001b[0m\u001b[0;34m,\u001b[0m \u001b[0;34m**\u001b[0m\u001b[0mkwargs\u001b[0m\u001b[0;34m)\u001b[0m\u001b[0;34m\u001b[0m\u001b[0;34m\u001b[0m\u001b[0m\n\u001b[0m\u001b[1;32m    533\u001b[0m         \u001b[0;32mfor\u001b[0m \u001b[0mhook\u001b[0m \u001b[0;32min\u001b[0m \u001b[0mself\u001b[0m\u001b[0;34m.\u001b[0m\u001b[0m_forward_hooks\u001b[0m\u001b[0;34m.\u001b[0m\u001b[0mvalues\u001b[0m\u001b[0;34m(\u001b[0m\u001b[0;34m)\u001b[0m\u001b[0;34m:\u001b[0m\u001b[0;34m\u001b[0m\u001b[0;34m\u001b[0m\u001b[0m\n\u001b[1;32m    534\u001b[0m             \u001b[0mhook_result\u001b[0m \u001b[0;34m=\u001b[0m \u001b[0mhook\u001b[0m\u001b[0;34m(\u001b[0m\u001b[0mself\u001b[0m\u001b[0;34m,\u001b[0m \u001b[0minput\u001b[0m\u001b[0;34m,\u001b[0m \u001b[0mresult\u001b[0m\u001b[0;34m)\u001b[0m\u001b[0;34m\u001b[0m\u001b[0;34m\u001b[0m\u001b[0m\n",
      "\u001b[0;32m<ipython-input-15-ec63a59a77c5>\u001b[0m in \u001b[0;36mforward\u001b[0;34m(self, data, hidden)\u001b[0m\n\u001b[1;32m     13\u001b[0m         \u001b[0mcombined\u001b[0m \u001b[0;34m=\u001b[0m \u001b[0mtorch\u001b[0m\u001b[0;34m.\u001b[0m\u001b[0mcat\u001b[0m\u001b[0;34m(\u001b[0m\u001b[0;34m(\u001b[0m\u001b[0mdata\u001b[0m\u001b[0;34m,\u001b[0m \u001b[0mhidden\u001b[0m\u001b[0;34m)\u001b[0m\u001b[0;34m,\u001b[0m \u001b[0;36m1\u001b[0m\u001b[0;34m)\u001b[0m\u001b[0;34m\u001b[0m\u001b[0;34m\u001b[0m\u001b[0m\n\u001b[1;32m     14\u001b[0m         \u001b[0mhidden\u001b[0m \u001b[0;34m=\u001b[0m \u001b[0mself\u001b[0m\u001b[0;34m.\u001b[0m\u001b[0mi2h\u001b[0m\u001b[0;34m(\u001b[0m\u001b[0mcombined\u001b[0m\u001b[0;34m)\u001b[0m\u001b[0;34m\u001b[0m\u001b[0;34m\u001b[0m\u001b[0m\n\u001b[0;32m---> 15\u001b[0;31m         \u001b[0moutput\u001b[0m \u001b[0;34m=\u001b[0m \u001b[0mself\u001b[0m\u001b[0;34m.\u001b[0m\u001b[0mi2o\u001b[0m\u001b[0;34m(\u001b[0m\u001b[0mcombined\u001b[0m\u001b[0;34m)\u001b[0m\u001b[0;34m\u001b[0m\u001b[0;34m\u001b[0m\u001b[0m\n\u001b[0m\u001b[1;32m     16\u001b[0m         \u001b[0;31m#output = self.softmax(output)\u001b[0m\u001b[0;34m\u001b[0m\u001b[0;34m\u001b[0m\u001b[0;34m\u001b[0m\u001b[0m\n\u001b[1;32m     17\u001b[0m         \u001b[0;32mreturn\u001b[0m \u001b[0moutput\u001b[0m\u001b[0;34m,\u001b[0m \u001b[0mhidden\u001b[0m\u001b[0;34m\u001b[0m\u001b[0;34m\u001b[0m\u001b[0m\n",
      "\u001b[0;32m~/opt/anaconda3/envs/apptio/lib/python3.8/site-packages/torch/nn/modules/module.py\u001b[0m in \u001b[0;36m__call__\u001b[0;34m(self, *input, **kwargs)\u001b[0m\n\u001b[1;32m    530\u001b[0m             \u001b[0mresult\u001b[0m \u001b[0;34m=\u001b[0m \u001b[0mself\u001b[0m\u001b[0;34m.\u001b[0m\u001b[0m_slow_forward\u001b[0m\u001b[0;34m(\u001b[0m\u001b[0;34m*\u001b[0m\u001b[0minput\u001b[0m\u001b[0;34m,\u001b[0m \u001b[0;34m**\u001b[0m\u001b[0mkwargs\u001b[0m\u001b[0;34m)\u001b[0m\u001b[0;34m\u001b[0m\u001b[0;34m\u001b[0m\u001b[0m\n\u001b[1;32m    531\u001b[0m         \u001b[0;32melse\u001b[0m\u001b[0;34m:\u001b[0m\u001b[0;34m\u001b[0m\u001b[0;34m\u001b[0m\u001b[0m\n\u001b[0;32m--> 532\u001b[0;31m             \u001b[0mresult\u001b[0m \u001b[0;34m=\u001b[0m \u001b[0mself\u001b[0m\u001b[0;34m.\u001b[0m\u001b[0mforward\u001b[0m\u001b[0;34m(\u001b[0m\u001b[0;34m*\u001b[0m\u001b[0minput\u001b[0m\u001b[0;34m,\u001b[0m \u001b[0;34m**\u001b[0m\u001b[0mkwargs\u001b[0m\u001b[0;34m)\u001b[0m\u001b[0;34m\u001b[0m\u001b[0;34m\u001b[0m\u001b[0m\n\u001b[0m\u001b[1;32m    533\u001b[0m         \u001b[0;32mfor\u001b[0m \u001b[0mhook\u001b[0m \u001b[0;32min\u001b[0m \u001b[0mself\u001b[0m\u001b[0;34m.\u001b[0m\u001b[0m_forward_hooks\u001b[0m\u001b[0;34m.\u001b[0m\u001b[0mvalues\u001b[0m\u001b[0;34m(\u001b[0m\u001b[0;34m)\u001b[0m\u001b[0;34m:\u001b[0m\u001b[0;34m\u001b[0m\u001b[0;34m\u001b[0m\u001b[0m\n\u001b[1;32m    534\u001b[0m             \u001b[0mhook_result\u001b[0m \u001b[0;34m=\u001b[0m \u001b[0mhook\u001b[0m\u001b[0;34m(\u001b[0m\u001b[0mself\u001b[0m\u001b[0;34m,\u001b[0m \u001b[0minput\u001b[0m\u001b[0;34m,\u001b[0m \u001b[0mresult\u001b[0m\u001b[0;34m)\u001b[0m\u001b[0;34m\u001b[0m\u001b[0;34m\u001b[0m\u001b[0m\n",
      "\u001b[0;32m~/opt/anaconda3/envs/apptio/lib/python3.8/site-packages/torch/nn/modules/linear.py\u001b[0m in \u001b[0;36mforward\u001b[0;34m(self, input)\u001b[0m\n\u001b[1;32m     85\u001b[0m \u001b[0;34m\u001b[0m\u001b[0m\n\u001b[1;32m     86\u001b[0m     \u001b[0;32mdef\u001b[0m \u001b[0mforward\u001b[0m\u001b[0;34m(\u001b[0m\u001b[0mself\u001b[0m\u001b[0;34m,\u001b[0m \u001b[0minput\u001b[0m\u001b[0;34m)\u001b[0m\u001b[0;34m:\u001b[0m\u001b[0;34m\u001b[0m\u001b[0;34m\u001b[0m\u001b[0m\n\u001b[0;32m---> 87\u001b[0;31m         \u001b[0;32mreturn\u001b[0m \u001b[0mF\u001b[0m\u001b[0;34m.\u001b[0m\u001b[0mlinear\u001b[0m\u001b[0;34m(\u001b[0m\u001b[0minput\u001b[0m\u001b[0;34m,\u001b[0m \u001b[0mself\u001b[0m\u001b[0;34m.\u001b[0m\u001b[0mweight\u001b[0m\u001b[0;34m,\u001b[0m \u001b[0mself\u001b[0m\u001b[0;34m.\u001b[0m\u001b[0mbias\u001b[0m\u001b[0;34m)\u001b[0m\u001b[0;34m\u001b[0m\u001b[0;34m\u001b[0m\u001b[0m\n\u001b[0m\u001b[1;32m     88\u001b[0m \u001b[0;34m\u001b[0m\u001b[0m\n\u001b[1;32m     89\u001b[0m     \u001b[0;32mdef\u001b[0m \u001b[0mextra_repr\u001b[0m\u001b[0;34m(\u001b[0m\u001b[0mself\u001b[0m\u001b[0;34m)\u001b[0m\u001b[0;34m:\u001b[0m\u001b[0;34m\u001b[0m\u001b[0;34m\u001b[0m\u001b[0m\n",
      "\u001b[0;32m~/opt/anaconda3/envs/apptio/lib/python3.8/site-packages/torch/nn/functional.py\u001b[0m in \u001b[0;36mlinear\u001b[0;34m(input, weight, bias)\u001b[0m\n\u001b[1;32m   1368\u001b[0m     \u001b[0;32mif\u001b[0m \u001b[0minput\u001b[0m\u001b[0;34m.\u001b[0m\u001b[0mdim\u001b[0m\u001b[0;34m(\u001b[0m\u001b[0;34m)\u001b[0m \u001b[0;34m==\u001b[0m \u001b[0;36m2\u001b[0m \u001b[0;32mand\u001b[0m \u001b[0mbias\u001b[0m \u001b[0;32mis\u001b[0m \u001b[0;32mnot\u001b[0m \u001b[0;32mNone\u001b[0m\u001b[0;34m:\u001b[0m\u001b[0;34m\u001b[0m\u001b[0;34m\u001b[0m\u001b[0m\n\u001b[1;32m   1369\u001b[0m         \u001b[0;31m# fused op is marginally faster\u001b[0m\u001b[0;34m\u001b[0m\u001b[0;34m\u001b[0m\u001b[0;34m\u001b[0m\u001b[0m\n\u001b[0;32m-> 1370\u001b[0;31m         \u001b[0mret\u001b[0m \u001b[0;34m=\u001b[0m \u001b[0mtorch\u001b[0m\u001b[0;34m.\u001b[0m\u001b[0maddmm\u001b[0m\u001b[0;34m(\u001b[0m\u001b[0mbias\u001b[0m\u001b[0;34m,\u001b[0m \u001b[0minput\u001b[0m\u001b[0;34m,\u001b[0m \u001b[0mweight\u001b[0m\u001b[0;34m.\u001b[0m\u001b[0mt\u001b[0m\u001b[0;34m(\u001b[0m\u001b[0;34m)\u001b[0m\u001b[0;34m)\u001b[0m\u001b[0;34m\u001b[0m\u001b[0;34m\u001b[0m\u001b[0m\n\u001b[0m\u001b[1;32m   1371\u001b[0m     \u001b[0;32melse\u001b[0m\u001b[0;34m:\u001b[0m\u001b[0;34m\u001b[0m\u001b[0;34m\u001b[0m\u001b[0m\n\u001b[1;32m   1372\u001b[0m         \u001b[0moutput\u001b[0m \u001b[0;34m=\u001b[0m \u001b[0minput\u001b[0m\u001b[0;34m.\u001b[0m\u001b[0mmatmul\u001b[0m\u001b[0;34m(\u001b[0m\u001b[0mweight\u001b[0m\u001b[0;34m.\u001b[0m\u001b[0mt\u001b[0m\u001b[0;34m(\u001b[0m\u001b[0;34m)\u001b[0m\u001b[0;34m)\u001b[0m\u001b[0;34m\u001b[0m\u001b[0;34m\u001b[0m\u001b[0m\n",
      "\u001b[0;31mKeyboardInterrupt\u001b[0m: "
     ]
    }
   ],
   "source": [
    "import time\n",
    "import math\n",
    "\n",
    "n_iters = 10000\n",
    "print_every = 100\n",
    "plot_every = 10\n",
    "\n",
    "grnd_truth =[]\n",
    "pred_out =[]\n",
    "\n",
    "# Keep track of losses for plotting\n",
    "current_loss = 0\n",
    "all_losses = []\n",
    "\n",
    "def timeSince(since):\n",
    "    now = time.time()\n",
    "    s = now - since\n",
    "    m = math.floor(s / 60)\n",
    "    s -= m * 60\n",
    "    return '%dm %ds' % (m, s)\n",
    "\n",
    "start = time.time()\n",
    "\n",
    "for iter in range(1, n_iters + 1):\n",
    "    category, line, category_tensor, line_tensor = randomTrainingExample()\n",
    "    #print(category_tensor, line_tensor.size()[0])\n",
    "    grnd_truth.append(category)\n",
    "    output, loss = train(category_tensor, line_tensor)\n",
    "    pred_out.append(output)\n",
    "    current_loss += loss\n",
    "\n",
    "    # Print iter number, loss, name and guess\n",
    "    if iter % print_every == 0:\n",
    "        guess, guess_i = categoryFromOutput(output)\n",
    "        correct = '✓' if guess == category else '✗ (%s)' % category\n",
    "        print('%d %d%% (%s) %.4f %s / %s %s' % (iter, iter / n_iters * 100, timeSince(start), loss, line, guess, correct))\n",
    "\n",
    "    # Add current loss avg to list of losses\n",
    "    if iter % plot_every == 0:\n",
    "        all_losses.append(current_loss / plot_every)\n",
    "        current_loss = 0"
   ]
  },
  {
   "cell_type": "code",
   "execution_count": null,
   "metadata": {},
   "outputs": [],
   "source": [
    "#pd.Series(grnd_truth).value_counts()"
   ]
  },
  {
   "cell_type": "code",
   "execution_count": null,
   "metadata": {},
   "outputs": [],
   "source": [
    "#pred_out"
   ]
  },
  {
   "cell_type": "code",
   "execution_count": 25,
   "metadata": {},
   "outputs": [
    {
     "data": {
      "text/plain": [
       "[<matplotlib.lines.Line2D at 0x12e3a6040>]"
      ]
     },
     "execution_count": 25,
     "metadata": {},
     "output_type": "execute_result"
    },
    {
     "data": {
      "image/png": "[encoded data removed]",
      "text/plain": [
       "<Figure size 432x288 with 1 Axes>"
      ]
     },
     "metadata": {
      "needs_background": "light"
     },
     "output_type": "display_data"
    }
   ],
   "source": [
    "import matplotlib.pyplot as plt\n",
    "import matplotlib.ticker as ticker\n",
    "\n",
    "plt.figure()\n",
    "plt.plot(all_losses)"
   ]
  },
  {
   "cell_type": "code",
   "execution_count": 26,
   "metadata": {},
   "outputs": [],
   "source": [
    "# Keep track of correct guesses in a confusion matrix\n",
    "n_categories = 2\n",
    "confusion = torch.zeros(n_categories, n_categories)\n",
    "n_confusion = 10000\n",
    "\n",
    "# Just return an output given a line\n",
    "def evaluate(line_tensor):\n",
    "    hidden = rnn.initHidden()\n",
    "\n",
    "    for i in range(line_tensor.size()[0]):\n",
    "        output, hidden = rnn(line_tensor[i], hidden)\n",
    "\n",
    "    return output\n",
    "\n"
   ]
  },
  {
   "cell_type": "code",
   "execution_count": null,
   "metadata": {},
   "outputs": [],
   "source": [
    "# # Go through a bunch of examples and record which are correctly guessed\n",
    "# for i in range(n_confusion):\n",
    "#     category, line, category_tensor, line_tensor = randomTrainingExample()\n",
    "#     output = evaluate(line_tensor)\n",
    "#     guess, guess_i = categoryFromOutput(output)\n",
    "#     category_i = all_categories.index(category)\n",
    "#     confusion[category_i][guess_i] += 1\n",
    "\n",
    "# # Normalize by dividing every row by its sum\n",
    "# for i in range(n_categories):\n",
    "#     confusion[i] = confusion[i] / confusion[i].sum()\n",
    "\n",
    "# # Set up plot\n",
    "# fig = plt.figure()\n",
    "# ax = fig.add_subplot(111)\n",
    "# cax = ax.matshow(confusion.numpy())\n",
    "# fig.colorbar(cax)\n",
    "\n",
    "# # Set up axes\n",
    "# ax.set_xticklabels([''] + all_categories, rotation=90)\n",
    "# ax.set_yticklabels([''] + all_categories)\n",
    "\n",
    "# # Force label at every tick\n",
    "# ax.xaxis.set_major_locator(ticker.MultipleLocator(1))\n",
    "# ax.yaxis.set_major_locator(ticker.MultipleLocator(1))\n",
    "\n",
    "# # sphinx_gallery_thumbnail_number = 2\n",
    "# plt.show()"
   ]
  },
  {
   "cell_type": "code",
   "execution_count": 27,
   "metadata": {},
   "outputs": [],
   "source": [
    "def predict(input_line):\n",
    "    print('\\n> %s' % input_line)\n",
    "    with torch.no_grad():\n",
    "        output = evaluate(lineToTensor(input_line))\n",
    "\n",
    "        # Get top N categories\n",
    "        \n",
    "        z = output\n",
    "        print(z)\n",
    "        print(torch.argmax(z))\n",
    "        print('pred : ',all_categories[torch.argmax(z)])\n",
    "        topv, topi = z.topk(1)\n",
    "        #print('out: ',output.topk(1))\n",
    "#         predictions = []\n",
    "        \n",
    "#         print(topv[0][0].item(),topi[0][0].item())\n",
    "        \n",
    "\n",
    "#         for i in range(2):\n",
    "#             value = topv[0][i].item()\n",
    "#             category_index = topi[0][i].item()\n",
    "#             print('(%.2f) %s' % (value, all_categories[category_index]))\n",
    "#             predictions.append([value, all_categories[category_index]])\n",
    "\n"
   ]
  },
  {
   "cell_type": "code",
   "execution_count": 29,
   "metadata": {},
   "outputs": [
    {
     "name": "stdout",
     "output_type": "stream",
     "text": [
      "\n",
      "> Monitor\n",
      "tensor([[ 1.5782, -1.5479]])\n",
      "tensor(0)\n",
      "pred :  Laptop\n"
     ]
    }
   ],
   "source": [
    "predict('Monitor')"
   ]
  },
  {
   "cell_type": "code",
   "execution_count": null,
   "metadata": {},
   "outputs": [],
   "source": []
  },
  {
   "cell_type": "code",
   "execution_count": null,
   "metadata": {},
   "outputs": [],
   "source": []
  }
 ],
 "metadata": {
  "kernelspec": {
   "display_name": "Python 3",
   "language": "python",
   "name": "python3"
  },
  "language_info": {
   "codemirror_mode": {
    "name": "ipython",
    "version": 3
   },
   "file_extension": ".py",
   "mimetype": "text/x-python",
   "name": "python",
   "nbconvert_exporter": "python",
   "pygments_lexer": "ipython3",
   "version": "3.8.1"
  }
 },
 "nbformat": 4,
 "nbformat_minor": 4
}
